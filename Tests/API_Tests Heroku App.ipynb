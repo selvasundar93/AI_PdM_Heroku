{
 "cells": [
  {
   "cell_type": "markdown",
   "metadata": {},
   "source": [
    "# API Tests - Heroku app\n",
    "### https://ai-pdm.herokuapp.com/Ano_Det_Uni\n",
    "### https://ai-pdm.herokuapp.com//RUL_Predict"
   ]
  },
  {
   "cell_type": "code",
   "execution_count": 1,
   "metadata": {},
   "outputs": [],
   "source": [
    "import requests\n",
    "import json"
   ]
  },
  {
   "cell_type": "markdown",
   "metadata": {},
   "source": [
    "## Univariate Anomaly Detection"
   ]
  },
  {
   "cell_type": "code",
   "execution_count": 2,
   "metadata": {},
   "outputs": [
    {
     "name": "stdout",
     "output_type": "stream",
     "text": [
      "<Response [200]>\n"
     ]
    }
   ],
   "source": [
    "url = \"https://ai-pdm.herokuapp.com/Ano_Det_Uni\"\n",
    "input_data = {\"rms\":0.0782,\"mean\":0.0619}\n",
    "json_data = json.dumps(input_data)\n",
    "send_request = requests.post(url, json_data)\n",
    "print(send_request)"
   ]
  },
  {
   "cell_type": "code",
   "execution_count": 3,
   "metadata": {},
   "outputs": [
    {
     "name": "stdout",
     "output_type": "stream",
     "text": [
      "{\"Output\":\"Normal\"}\n",
      "\n"
     ]
    }
   ],
   "source": [
    "url = \"https://ai-pdm.herokuapp.com/Ano_Det_Uni\"\n",
    "input_data = {\"rms\":0.0782,\"mean\":0.0619}\n",
    "json_data = json.dumps(input_data)\n",
    "send_request = requests.post(url, json_data)\n",
    "print(send_request.text)"
   ]
  },
  {
   "cell_type": "code",
   "execution_count": 4,
   "metadata": {},
   "outputs": [
    {
     "name": "stdout",
     "output_type": "stream",
     "text": [
      "{\"Output\":\"Anomaly\"}\n",
      "\n"
     ]
    }
   ],
   "source": [
    "url = \"https://ai-pdm.herokuapp.com/Ano_Det_Uni\"\n",
    "input_data = {\"rms\":0.1585,\"mean\":0.1148}\n",
    "json_data = json.dumps(input_data)\n",
    "send_request = requests.post(url, json_data)\n",
    "print(send_request.text)"
   ]
  },
  {
   "cell_type": "code",
   "execution_count": 5,
   "metadata": {},
   "outputs": [
    {
     "name": "stdout",
     "output_type": "stream",
     "text": [
      "{\"Output\":\"No Proper Input\"}\n",
      "\n"
     ]
    }
   ],
   "source": [
    "url = \"https://ai-pdm.herokuapp.com/Ano_Det_Uni\"\n",
    "input_data = {\"rms\":0.0,\"mean\":0.0}\n",
    "json_data = json.dumps(input_data)\n",
    "send_request = requests.post(url, json_data)\n",
    "print(send_request.text)"
   ]
  },
  {
   "cell_type": "markdown",
   "metadata": {},
   "source": [
    "## RUL Prediction"
   ]
  },
  {
   "cell_type": "code",
   "execution_count": 6,
   "metadata": {},
   "outputs": [
    {
     "name": "stdout",
     "output_type": "stream",
     "text": [
      "{\"Fraction Failing\":\"20-40%\",\"RUL\":\"60%\",\"RUL_Class\":2}\n",
      "\n"
     ]
    }
   ],
   "source": [
    "url = \"https://ai-pdm.herokuapp.com//RUL_Predict\"\n",
    "input_data = {\"Bearing1_RMS\":0.0790,\"Bearing1_Kurt\":3.5062,\"Bearing1_RMS_Prev\":0.0789,\"Bearing1_Kurt_Prev\":3.5963}\n",
    "json_data = json.dumps(input_data)\n",
    "headers = {'Content-Type': 'application/json'}\n",
    "response = requests.request(\"POST\", url, headers=headers, data = json_data)\n",
    "print(response.text)"
   ]
  },
  {
   "cell_type": "code",
   "execution_count": 7,
   "metadata": {},
   "outputs": [
    {
     "name": "stdout",
     "output_type": "stream",
     "text": [
      "{\"Fraction Failing\":\"No Proper Input\",\"RUL\":\"No Proper Input\",\"RUL_Class\":\"No Proper Input\"}\n",
      "\n"
     ]
    }
   ],
   "source": [
    "url = \"https://ai-pdm.herokuapp.com//RUL_Predict\"\n",
    "input_data = {\"Bearing1_RMS\":0.0,\"Bearing1_Kurt\":0.0,\"Bearing1_RMS_Prev\":0.0,\"Bearing1_Kurt_Prev\":0.0}\n",
    "json_data = json.dumps(input_data)\n",
    "headers = {'Content-Type': 'application/json'}\n",
    "response = requests.request(\"POST\", url, headers=headers, data = json_data)\n",
    "print(response.text)"
   ]
  }
 ],
 "metadata": {
  "kernelspec": {
   "display_name": "Python 3",
   "language": "python",
   "name": "python3"
  },
  "language_info": {
   "codemirror_mode": {
    "name": "ipython",
    "version": 3
   },
   "file_extension": ".py",
   "mimetype": "text/x-python",
   "name": "python",
   "nbconvert_exporter": "python",
   "pygments_lexer": "ipython3",
   "version": "3.8.3"
  }
 },
 "nbformat": 4,
 "nbformat_minor": 4
}
